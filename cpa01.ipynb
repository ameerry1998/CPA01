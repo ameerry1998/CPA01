{
 "cells": [
  {
   "cell_type": "markdown",
   "id": "1813d06c",
   "metadata": {},
   "source": [
    "# Import/Export \n",
    "\n",
    "This project will annalyze import and exports by country, value, and type (meaning either good or service). And try to arrive at some facts about shipping from between the years of 2014 and 2021 \n",
    "\n",
    "The data can be found at https://www.stats.govt.nz/large-datasets/csv-files-for-download/ made avilable through the goverment of new zeland\n",
    "\n",
    "I'm interested in understanding what the trends of shipping are from the perspective of how much shipping avtivity has been going on by month as well as looking at the differenece in demand between goods and services. "
   ]
  },
  {
   "cell_type": "code",
   "execution_count": null,
   "id": "a1f417a7",
   "metadata": {},
   "outputs": [],
   "source": [
    "import numpy as np\n",
    "import pandas as pd\n",
    "from datetime import datetime\n",
    "from matplotlib import pyplot as plt"
   ]
  },
  {
   "cell_type": "code",
   "execution_count": null,
   "id": "1f712759",
   "metadata": {},
   "outputs": [],
   "source": [
    "data = pd.read_csv('trade.csv')"
   ]
  },
  {
   "cell_type": "code",
   "execution_count": null,
   "id": "1a4c3b7d",
   "metadata": {},
   "outputs": [],
   "source": [
    "print(data.describe())"
   ]
  },
  {
   "cell_type": "code",
   "execution_count": null,
   "id": "ad8360dd",
   "metadata": {},
   "outputs": [],
   "source": [
    "data[['time_ref', 'account', 'country_code','product_type','value','status']]"
   ]
  },
  {
   "cell_type": "code",
   "execution_count": null,
   "id": "525d0aa9",
   "metadata": {},
   "outputs": [],
   "source": [
    "total_value_year = data.groupby('time_ref')['value'].agg(sum)\n",
    "total_value_year.head(50)"
   ]
  },
  {
   "cell_type": "code",
   "execution_count": null,
   "id": "a4d27aee",
   "metadata": {},
   "outputs": [],
   "source": [
    "total_value_year.plot(figsize=(15,10))\n",
    "plt.title(\"Export/Import values by year\")\n",
    "plt.xlabel('Year')\n",
    "plt.ylabel('Total Export/Import value (Dollars)')"
   ]
  },
  {
   "cell_type": "code",
   "execution_count": null,
   "id": "f54934e1",
   "metadata": {},
   "outputs": [],
   "source": [
    "ts = data.groupby(['account', 'product_type'])['value'].agg(sum)\n",
    "ts = ts.reset_index(level=\"account\")\n",
    "prodType_pt =  pd.pivot_table(ts, index=[\"account\"], values='value',columns=[\"product_type\"])\n",
    "prodType_pt"
   ]
  },
  {
   "cell_type": "code",
   "execution_count": null,
   "id": "548fb776",
   "metadata": {},
   "outputs": [],
   "source": [
    "prodType_pt.plot()"
   ]
  },
  {
   "cell_type": "markdown",
   "id": "db6d4e56",
   "metadata": {},
   "source": [
    "## Through this analysis we've found some interesting results which seem to comply with reality. In the first plot we can see the value of all Importing/Explorting of all goods and services. As we can see in plot 1 there's a significant drop around march of 2020 which hold strong until around february 2021. However today there seems to be a significant almost full recovery. Looking at the pivot table plotwe can see that the demand for good far outweighs the demand for services, and through time the demand for good is increasing while the demand for services is decreasing. \n"
   ]
  },
  {
   "cell_type": "code",
   "execution_count": null,
   "id": "0d9d7056",
   "metadata": {},
   "outputs": [],
   "source": []
  }
 ],
 "metadata": {
  "kernelspec": {
   "display_name": "Python 3 (ipykernel)",
   "language": "python",
   "name": "python3"
  },
  "language_info": {
   "codemirror_mode": {
    "name": "ipython",
    "version": 3
   },
   "file_extension": ".py",
   "mimetype": "text/x-python",
   "name": "python",
   "nbconvert_exporter": "python",
   "pygments_lexer": "ipython3",
   "version": "3.9.7"
  }
 },
 "nbformat": 4,
 "nbformat_minor": 5
}
