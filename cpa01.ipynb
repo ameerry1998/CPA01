{
 "cells": [
  {
   "cell_type": "markdown",
   "id": "1813d06c",
   "metadata": {},
   "source": [
    "# Import/Export \n",
    "\n",
    "This project will annalyze import and exports by country, value, and type (meaning either good or service). And try to arrive at some facts about shipping from between the years of 2014 and 2021 \n",
    "\n",
    "The data can be found at https://www.stats.govt.nz/large-datasets/csv-files-for-download/ made avilable through the goverment of new zeland\n",
    "\n",
    "I'm interested in understanding what the trends of shipping are from the perspective of how much shipping avtivity has been going on by month as well as looking at the differenece in demand between goods and services. "
   ]
  },
  {
   "cell_type": "code",
   "execution_count": 116,
   "id": "a1f417a7",
   "metadata": {},
   "outputs": [],
   "source": [
    "import numpy as np\n",
    "import pandas as pd\n",
    "from datetime import datetime\n",
    "from matplotlib import pyplot as plt"
   ]
  },
  {
   "cell_type": "code",
   "execution_count": 117,
   "id": "1f712759",
   "metadata": {},
   "outputs": [],
   "source": [
    "data = pd.read_csv('trade.csv')"
   ]
  },
  {
   "cell_type": "code",
   "execution_count": 82,
   "id": "1a4c3b7d",
   "metadata": {},
   "outputs": [
    {
     "name": "stdout",
     "output_type": "stream",
     "text": [
      "           time_ref         value\n",
      "count  1.773079e+06  1.657724e+06\n",
      "mean   2.017691e+05  4.670293e+06\n",
      "std    2.225275e+02  1.497366e+08\n",
      "min    2.014060e+05 -7.023190e+08\n",
      "25%    2.016030e+05  2.312000e+03\n",
      "50%    2.018030e+05  2.122700e+04\n",
      "75%    2.020030e+05  1.853495e+05\n",
      "max    2.021120e+05  2.048960e+10\n"
     ]
    }
   ],
   "source": [
    "print(data.describe())"
   ]
  },
  {
   "cell_type": "code",
   "execution_count": 83,
   "id": "ad8360dd",
   "metadata": {},
   "outputs": [
    {
     "data": {
      "text/html": [
       "<div>\n",
       "<style scoped>\n",
       "    .dataframe tbody tr th:only-of-type {\n",
       "        vertical-align: middle;\n",
       "    }\n",
       "\n",
       "    .dataframe tbody tr th {\n",
       "        vertical-align: top;\n",
       "    }\n",
       "\n",
       "    .dataframe thead th {\n",
       "        text-align: right;\n",
       "    }\n",
       "</style>\n",
       "<table border=\"1\" class=\"dataframe\">\n",
       "  <thead>\n",
       "    <tr style=\"text-align: right;\">\n",
       "      <th></th>\n",
       "      <th>time_ref</th>\n",
       "      <th>account</th>\n",
       "      <th>country_code</th>\n",
       "      <th>product_type</th>\n",
       "      <th>value</th>\n",
       "      <th>status</th>\n",
       "    </tr>\n",
       "  </thead>\n",
       "  <tbody>\n",
       "    <tr>\n",
       "      <th>0</th>\n",
       "      <td>202112</td>\n",
       "      <td>Exports</td>\n",
       "      <td>AD</td>\n",
       "      <td>Goods</td>\n",
       "      <td>2764.0</td>\n",
       "      <td>F</td>\n",
       "    </tr>\n",
       "    <tr>\n",
       "      <th>1</th>\n",
       "      <td>202112</td>\n",
       "      <td>Exports</td>\n",
       "      <td>AE</td>\n",
       "      <td>Goods</td>\n",
       "      <td>209284112.0</td>\n",
       "      <td>F</td>\n",
       "    </tr>\n",
       "    <tr>\n",
       "      <th>2</th>\n",
       "      <td>202112</td>\n",
       "      <td>Exports</td>\n",
       "      <td>AG</td>\n",
       "      <td>Goods</td>\n",
       "      <td>820060.0</td>\n",
       "      <td>F</td>\n",
       "    </tr>\n",
       "    <tr>\n",
       "      <th>3</th>\n",
       "      <td>202112</td>\n",
       "      <td>Exports</td>\n",
       "      <td>AL</td>\n",
       "      <td>Goods</td>\n",
       "      <td>9294.0</td>\n",
       "      <td>F</td>\n",
       "    </tr>\n",
       "    <tr>\n",
       "      <th>4</th>\n",
       "      <td>202112</td>\n",
       "      <td>Exports</td>\n",
       "      <td>AM</td>\n",
       "      <td>Goods</td>\n",
       "      <td>9284.0</td>\n",
       "      <td>F</td>\n",
       "    </tr>\n",
       "    <tr>\n",
       "      <th>...</th>\n",
       "      <td>...</td>\n",
       "      <td>...</td>\n",
       "      <td>...</td>\n",
       "      <td>...</td>\n",
       "      <td>...</td>\n",
       "      <td>...</td>\n",
       "    </tr>\n",
       "    <tr>\n",
       "      <th>1773074</th>\n",
       "      <td>201406</td>\n",
       "      <td>Imports</td>\n",
       "      <td>US</td>\n",
       "      <td>Services</td>\n",
       "      <td>168141.0</td>\n",
       "      <td>F</td>\n",
       "    </tr>\n",
       "    <tr>\n",
       "      <th>1773075</th>\n",
       "      <td>201406</td>\n",
       "      <td>Imports</td>\n",
       "      <td>VN</td>\n",
       "      <td>Services</td>\n",
       "      <td>112094.0</td>\n",
       "      <td>F</td>\n",
       "    </tr>\n",
       "    <tr>\n",
       "      <th>1773076</th>\n",
       "      <td>201406</td>\n",
       "      <td>Imports</td>\n",
       "      <td>VU</td>\n",
       "      <td>Services</td>\n",
       "      <td>56047.0</td>\n",
       "      <td>F</td>\n",
       "    </tr>\n",
       "    <tr>\n",
       "      <th>1773077</th>\n",
       "      <td>201406</td>\n",
       "      <td>Imports</td>\n",
       "      <td>WS</td>\n",
       "      <td>Services</td>\n",
       "      <td>56047.0</td>\n",
       "      <td>F</td>\n",
       "    </tr>\n",
       "    <tr>\n",
       "      <th>1773078</th>\n",
       "      <td>201406</td>\n",
       "      <td>Imports</td>\n",
       "      <td>ZA</td>\n",
       "      <td>Services</td>\n",
       "      <td>56047.0</td>\n",
       "      <td>F</td>\n",
       "    </tr>\n",
       "  </tbody>\n",
       "</table>\n",
       "<p>1773079 rows × 6 columns</p>\n",
       "</div>"
      ],
      "text/plain": [
       "         time_ref  account country_code product_type        value status\n",
       "0          202112  Exports           AD        Goods       2764.0      F\n",
       "1          202112  Exports           AE        Goods  209284112.0      F\n",
       "2          202112  Exports           AG        Goods     820060.0      F\n",
       "3          202112  Exports           AL        Goods       9294.0      F\n",
       "4          202112  Exports           AM        Goods       9284.0      F\n",
       "...           ...      ...          ...          ...          ...    ...\n",
       "1773074    201406  Imports           US     Services     168141.0      F\n",
       "1773075    201406  Imports           VN     Services     112094.0      F\n",
       "1773076    201406  Imports           VU     Services      56047.0      F\n",
       "1773077    201406  Imports           WS     Services      56047.0      F\n",
       "1773078    201406  Imports           ZA     Services      56047.0      F\n",
       "\n",
       "[1773079 rows x 6 columns]"
      ]
     },
     "execution_count": 83,
     "metadata": {},
     "output_type": "execute_result"
    }
   ],
   "source": [
    "data[['time_ref', 'account', 'country_code','product_type','value','status']]"
   ]
  },
  {
   "cell_type": "code",
   "execution_count": 118,
   "id": "525d0aa9",
   "metadata": {},
   "outputs": [
    {
     "data": {
      "text/plain": [
       "time_ref\n",
       "201406    2.115851e+11\n",
       "201409    2.087366e+11\n",
       "201412    2.289213e+11\n",
       "201503    2.228738e+11\n",
       "201506    2.184406e+11\n",
       "201509    2.295552e+11\n",
       "201512    2.357308e+11\n",
       "201603    2.296473e+11\n",
       "201606    2.270212e+11\n",
       "201609    2.221053e+11\n",
       "201612    2.369161e+11\n",
       "201703    2.411165e+11\n",
       "201706    2.472970e+11\n",
       "201709    2.387454e+11\n",
       "201712    2.727889e+11\n",
       "201803    2.641611e+11\n",
       "201806    2.699380e+11\n",
       "201809    2.708722e+11\n",
       "201812    2.887833e+11\n",
       "201903    2.791934e+11\n",
       "201906    2.809305e+11\n",
       "201909    2.761195e+11\n",
       "201912    2.969559e+11\n",
       "202003    2.821898e+11\n",
       "202006    2.267672e+11\n",
       "202009    2.229561e+11\n",
       "202012    2.454364e+11\n",
       "202103    2.317778e+11\n",
       "202106    2.659372e+11\n",
       "202109    2.706772e+11\n",
       "202112    2.978807e+11\n",
       "Name: value, dtype: float64"
      ]
     },
     "execution_count": 118,
     "metadata": {},
     "output_type": "execute_result"
    }
   ],
   "source": [
    "total_value_year = data.groupby('time_ref')['value'].agg(sum)\n",
    "total_value_year.head(50)"
   ]
  },
  {
   "cell_type": "code",
   "execution_count": 119,
   "id": "a4d27aee",
   "metadata": {},
   "outputs": [
    {
     "data": {
      "text/plain": [
       "Text(0, 0.5, 'Total Export/Import value (Dollars)')"
      ]
     },
     "execution_count": 119,
     "metadata": {},
     "output_type": "execute_result"
    },
    {
     "data": {
      "image/png": "[encoded data removed]",
      "text/plain": [
       "<Figure size 1080x720 with 1 Axes>"
      ]
     },
     "metadata": {
      "needs_background": "light"
     },
     "output_type": "display_data"
    }
   ],
   "source": [
    "total_value_year.plot(figsize=(15,10))\n",
    "plt.title(\"Export/Import values by year\")\n",
    "plt.xlabel('Year')\n",
    "plt.ylabel('Total Export/Import value (Dollars)')"
   ]
  },
  {
   "cell_type": "code",
   "execution_count": 120,
   "id": "f54934e1",
   "metadata": {},
   "outputs": [
    {
     "data": {
      "text/html": [
       "<div>\n",
       "<style scoped>\n",
       "    .dataframe tbody tr th:only-of-type {\n",
       "        vertical-align: middle;\n",
       "    }\n",
       "\n",
       "    .dataframe tbody tr th {\n",
       "        vertical-align: top;\n",
       "    }\n",
       "\n",
       "    .dataframe thead th {\n",
       "        text-align: right;\n",
       "    }\n",
       "</style>\n",
       "<table border=\"1\" class=\"dataframe\">\n",
       "  <thead>\n",
       "    <tr style=\"text-align: right;\">\n",
       "      <th>product_type</th>\n",
       "      <th>Goods</th>\n",
       "      <th>Services</th>\n",
       "    </tr>\n",
       "    <tr>\n",
       "      <th>account</th>\n",
       "      <th></th>\n",
       "      <th></th>\n",
       "    </tr>\n",
       "  </thead>\n",
       "  <tbody>\n",
       "    <tr>\n",
       "      <th>Exports</th>\n",
       "      <td>2.559589e+12</td>\n",
       "      <td>1.124526e+12</td>\n",
       "    </tr>\n",
       "    <tr>\n",
       "      <th>Imports</th>\n",
       "      <td>3.064132e+12</td>\n",
       "      <td>9.938104e+11</td>\n",
       "    </tr>\n",
       "  </tbody>\n",
       "</table>\n",
       "</div>"
      ],
      "text/plain": [
       "product_type         Goods      Services\n",
       "account                                 \n",
       "Exports       2.559589e+12  1.124526e+12\n",
       "Imports       3.064132e+12  9.938104e+11"
      ]
     },
     "execution_count": 120,
     "metadata": {},
     "output_type": "execute_result"
    }
   ],
   "source": [
    "ts = data.groupby(['account', 'product_type'])['value'].agg(sum)\n",
    "ts = ts.reset_index(level=\"account\")\n",
    "prodType_pt =  pd.pivot_table(ts, values='value', index=[\"account\"], columns=[\"product_type\"])\n",
    "prodType_pt"
   ]
  },
  {
   "cell_type": "code",
   "execution_count": 122,
   "id": "548fb776",
   "metadata": {},
   "outputs": [
    {
     "data": {
      "text/plain": [
       "<AxesSubplot:xlabel='account'>"
      ]
     },
     "execution_count": 122,
     "metadata": {},
     "output_type": "execute_result"
    },
    {
     "data": {
      "image/png": "[encoded data removed]",
      "text/plain": [
       "<Figure size 432x288 with 1 Axes>"
      ]
     },
     "metadata": {
      "needs_background": "light"
     },
     "output_type": "display_data"
    }
   ],
   "source": [
    "prodType_pt.plot()"
   ]
  },
  {
   "cell_type": "markdown",
   "id": "db6d4e56",
   "metadata": {},
   "source": [
    "## Through this analysis we've found some interesting results which seem to comply with reality. In the first plot we can see the value of all Importing/Explorting of all goods and services. As we can see in plot 1 there's a significant drop around march of 2020 which hold strong until around february 2021. However today there seems to be a significant almost full recovery. Looking at the pivot table plotwe can see that the demand for good far outweighs the demand for services, and through time the demand for good is increasing while the demand for services is decreasing. \n"
   ]
  },
  {
   "cell_type": "code",
   "execution_count": null,
   "id": "0d9d7056",
   "metadata": {},
   "outputs": [],
   "source": []
  }
 ],
 "metadata": {
  "kernelspec": {
   "display_name": "Python 3 (ipykernel)",
   "language": "python",
   "name": "python3"
  },
  "language_info": {
   "codemirror_mode": {
    "name": "ipython",
    "version": 3
   },
   "file_extension": ".py",
   "mimetype": "text/x-python",
   "name": "python",
   "nbconvert_exporter": "python",
   "pygments_lexer": "ipython3",
   "version": "3.9.7"
  }
 },
 "nbformat": 4,
 "nbformat_minor": 5
}
